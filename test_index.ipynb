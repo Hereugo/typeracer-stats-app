import pandas as pd
import pytest
from unittest.mock import patch

from index import save_data_to_csv


def test_save_data_to_csv_existing_file():
    # Mocking the behavior of pd.read_csv
    with patch("pandas.read_csv") as mock_read_csv:
        # Mocking the behavior of pd.concat
        with patch("pandas.concat") as mock_concat:
            # Mocking the behavior of df.to_csv
            with patch("pandas.DataFrame.to_csv") as mock_to_csv:
                # Mocking the behavior of pd.DataFrame
                with patch("pandas.DataFrame") as mock_dataframe:
                    # Mocking the behavior of pd.DataFrame constructor
                    mock_df = mock_dataframe.return_value

                    # Mocking the behavior of pd.read_csv to return an existing DataFrame
                    existing_df = pd.DataFrame({"col1": [1, 2], "col2": [3, 4]})
                    mock_read_csv.return_value = existing_df

                    # Mocking the behavior of pd.concat to return the concatenated DataFrame
                    concatenated_df = pd.DataFrame({"col1": [1, 2, 5], "col2": [3, 4, 6]})
                    mock_concat.return_value = concatenated_df

                    # Calling the function under test
                    data = {"col1": [5], "col2": [6]}
                    filename = "test.csv"
                    save_data_to_csv(data, filename)

                    # Asserting that pd.read_csv was called with the correct filename
                    mock_read_csv.assert_called_once_with(filename)

                    # Asserting that pd.concat was called with the existing DataFrame and the new DataFrame
                    mock_concat.assert_called_once_with([existing_df, mock_df], ignore_index=True)

                    # Asserting that df.to_csv was called with the correct filename and index=False
                    mock_to_csv.assert_called_once_with(filename, index=False)